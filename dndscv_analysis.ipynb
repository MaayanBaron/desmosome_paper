{
 "cells": [
  {
   "cell_type": "code",
   "execution_count": 1,
   "metadata": {},
   "outputs": [],
   "source": [
    "import numpy as np\n",
    "import pandas as pd\n",
    "import matplotlib.pyplot as plt\n",
    "import warnings\n",
    "import seaborn as sns\n",
    "from statannot import add_stat_annotation\n",
    "warnings.filterwarnings('ignore')"
   ]
  },
  {
   "cell_type": "code",
   "execution_count": 2,
   "metadata": {},
   "outputs": [],
   "source": [
    "path = '/Users/maayanbaron/Documents/Data/desmosomes/dndscv/dndscv_skcm_primary.csv'\n",
    "dndscv_primary = pd.read_csv(path,index_col=0)\n",
    "\n",
    "path = '/Users/maayanbaron/Documents/Data/desmosomes/dndscv/dndscv_skcm_met.csv'\n",
    "dndscv_met = pd.read_csv(path,index_col=0)\n",
    "\n",
    "path = '/Users/maayanbaron/Documents/Data/desmosomes/dndscv/dndscv_skcm_all.csv'\n",
    "dndscv_all = pd.read_csv(path,index_col=0)"
   ]
  },
  {
   "cell_type": "code",
   "execution_count": 7,
   "metadata": {},
   "outputs": [
    {
     "data": {
      "text/plain": [
       "12"
      ]
     },
     "execution_count": 7,
     "metadata": {},
     "output_type": "execute_result"
    }
   ],
   "source": [
    "len(des_genes)"
   ]
  },
  {
   "cell_type": "code",
   "execution_count": 3,
   "metadata": {},
   "outputs": [
    {
     "data": {
      "image/png": "[encoded data removed]",
      "text/plain": [
       "<Figure size 216x360 with 1 Axes>"
      ]
     },
     "metadata": {
      "needs_background": "light"
     },
     "output_type": "display_data"
    }
   ],
   "source": [
    "des_genes = ['DSP','DSC1','DSC2','DSC3','DSG1','DSG2','DSG3','DSG4','PKP1','PKP2', 'PKP3','JUP']\n",
    "dnds_des = pd.DataFrame(index=des_genes,columns=['all','primary','met'])\n",
    "dnds_des['all'] = dndscv_all.loc[des_genes,'wmis_cv']\n",
    "dnds_des['primary'] = dndscv_primary.loc[des_genes,'wmis_cv']\n",
    "dnds_des['met'] = dndscv_met.loc[des_genes,'wmis_cv']\n",
    "\n",
    "dnds_des = pd.melt(dnds_des,ignore_index=False)\n",
    "dnds_des.columns = ['type','dn/ds']\n",
    "dnds_des = dnds_des[dnds_des['dn/ds']>1]\n",
    "\n",
    "colors_mp = [\"#Bcbcbc\",\"#7fd2e0\",\"#095e94\"]\n",
    "data = dnds_des\n",
    "x = 'type'\n",
    "y = 'dn/ds'\n",
    "box_pairs = [(\"all\",\"primary\"),(\"met\",\"primary\"),(\"all\",\"met\")]\n",
    "\n",
    "\n",
    "plt.figure(figsize=(3,5))\n",
    "ax = sns.boxplot(data=data,x=x,y=y,palette=colors_mp);\n",
    "test_results = add_stat_annotation(ax, data=data, x=x, y=y,\n",
    "                                   box_pairs=box_pairs,\n",
    "                                   test='t-test_ind', text_format='star',comparisons_correction=None,\n",
    "                                   loc='outside', verbose=0)\n",
    "plt.savefig('/Users/maayanbaron/Documents/Data/desmosomes/dndscv/dn_ds_primaryVsmet.pdf',dpi=600,bbox_inches='tight')"
   ]
  },
  {
   "cell_type": "code",
   "execution_count": 132,
   "metadata": {},
   "outputs": [],
   "source": [
    "#checking all cancer TCGA cohorts\n",
    "from os import listdir\n",
    "dnds_dir = '/Users/maayanbaron/Documents/Data/desmosomes/dndscv/dndscv_output/'\n",
    "dnds_files_list = listdir(dnds_dir)\n",
    "\n",
    "cohort_names = []\n",
    "for name in dnds_files_list:\n",
    "    cohort_names.append(name.split('.')[0].split('_')[0])\n",
    "    \n",
    "des_genes = ['DSP','DSC1','DSC2','DSC3','DSG1','DSG2','DSG3','DSG4','PKP1','PKP2', 'PKP3','JUP']\n",
    "\n",
    "des_all_cancer = pd.DataFrame(index=des_genes,columns=cohort_names)\n",
    "\n",
    "for file in dnds_files_list:\n",
    "    path = '/Users/maayanbaron/Documents/Data/desmosomes/dndscv/dndscv_output/'+ file\n",
    "    df = pd.read_csv(path,index_col=0)\n",
    "    des_all_cancer.loc[des_genes,file.split('_')[0]] = df.loc[des_genes,'wmis_cv']"
   ]
  },
  {
   "cell_type": "code",
   "execution_count": 147,
   "metadata": {},
   "outputs": [],
   "source": [
    "sig_cancers = ['skcm','dlbc','gbm','lgg','luad','ov','ucec','lusc','blca','stad','cesc']"
   ]
  },
  {
   "cell_type": "code",
   "execution_count": 149,
   "metadata": {},
   "outputs": [
    {
     "data": {
      "image/png": "[encoded data removed]",
      "text/plain": [
       "<Figure size 360x360 with 1 Axes>"
      ]
     },
     "metadata": {
      "needs_background": "light"
     },
     "output_type": "display_data"
    }
   ],
   "source": [
    "des_sig_cancer = des_all_cancer[sig_cancers]\n",
    "des_all_cancer_melt = pd.melt(des_sig_cancer,ignore_index=False)\n",
    "des_all_cancer_melt.columns = ['type','dn/ds']\n",
    "des_all_cancer_melt = des_all_cancer_melt[des_all_cancer_melt['dn/ds']>1]\n",
    "\n",
    "data = des_all_cancer_melt\n",
    "x = 'type'\n",
    "y = 'dn/ds'\n",
    "plt.figure(figsize=(5,5))\n",
    "ax = sns.boxplot(data=data,x=x,y=y,color='#E0E0E0');\n",
    "ax.set_xticklabels(ax.get_xticklabels(),rotation=30);"
   ]
  },
  {
   "cell_type": "code",
   "execution_count": 128,
   "metadata": {},
   "outputs": [
    {
     "data": {
      "text/html": [
       "<div>\n",
       "<style scoped>\n",
       "    .dataframe tbody tr th:only-of-type {\n",
       "        vertical-align: middle;\n",
       "    }\n",
       "\n",
       "    .dataframe tbody tr th {\n",
       "        vertical-align: top;\n",
       "    }\n",
       "\n",
       "    .dataframe thead th {\n",
       "        text-align: right;\n",
       "    }\n",
       "</style>\n",
       "<table border=\"1\" class=\"dataframe\">\n",
       "  <thead>\n",
       "    <tr style=\"text-align: right;\">\n",
       "      <th></th>\n",
       "      <th>type</th>\n",
       "      <th>dn/ds</th>\n",
       "    </tr>\n",
       "  </thead>\n",
       "  <tbody>\n",
       "    <tr>\n",
       "      <th>DSP</th>\n",
       "      <td>kich</td>\n",
       "      <td>2.61806</td>\n",
       "    </tr>\n",
       "    <tr>\n",
       "      <th>DSC3</th>\n",
       "      <td>kich</td>\n",
       "      <td>9.19598</td>\n",
       "    </tr>\n",
       "    <tr>\n",
       "      <th>DSG1</th>\n",
       "      <td>kich</td>\n",
       "      <td>8.0836</td>\n",
       "    </tr>\n",
       "    <tr>\n",
       "      <th>DSG2</th>\n",
       "      <td>kich</td>\n",
       "      <td>7.47636</td>\n",
       "    </tr>\n",
       "    <tr>\n",
       "      <th>DSG4</th>\n",
       "      <td>kich</td>\n",
       "      <td>7.69776</td>\n",
       "    </tr>\n",
       "  </tbody>\n",
       "</table>\n",
       "</div>"
      ],
      "text/plain": [
       "      type    dn/ds\n",
       "DSP   kich  2.61806\n",
       "DSC3  kich  9.19598\n",
       "DSG1  kich   8.0836\n",
       "DSG2  kich  7.47636\n",
       "DSG4  kich  7.69776"
      ]
     },
     "execution_count": 128,
     "metadata": {},
     "output_type": "execute_result"
    }
   ],
   "source": [
    "des_all_cancer_melt[des_all_cancer_melt['type']=='kich']"
   ]
  },
  {
   "cell_type": "code",
   "execution_count": null,
   "metadata": {},
   "outputs": [],
   "source": []
  }
 ],
 "metadata": {
  "kernelspec": {
   "display_name": "Python 3",
   "language": "python",
   "name": "python3"
  },
  "language_info": {
   "codemirror_mode": {
    "name": "ipython",
    "version": 3
   },
   "file_extension": ".py",
   "mimetype": "text/x-python",
   "name": "python",
   "nbconvert_exporter": "python",
   "pygments_lexer": "ipython3",
   "version": "3.8.5"
  }
 },
 "nbformat": 4,
 "nbformat_minor": 4
}
